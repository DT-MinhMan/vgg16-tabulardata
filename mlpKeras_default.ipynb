{
 "cells": [
  {
   "cell_type": "code",
   "id": "initial_id",
   "metadata": {
    "collapsed": true,
    "ExecuteTime": {
     "end_time": "2025-05-01T12:13:20.238788Z",
     "start_time": "2025-05-01T12:12:57.335595Z"
    }
   },
   "source": [
    "import pickle\n",
    "import pandas as pd\n",
    "import numpy as np\n",
    "from sklearn.utils.class_weight import compute_class_weight\n",
    "from sklearn.metrics import classification_report, confusion_matrix, roc_auc_score, precision_recall_curve, auc, roc_curve\n",
    "from tensorflow.keras.models import Sequential\n",
    "from tensorflow.keras.layers import Dense, Dropout, BatchNormalization\n",
    "from tensorflow.keras.callbacks import EarlyStopping, ReduceLROnPlateau\n",
    "from tensorflow.keras.optimizers import Adam\n",
    "from tensorflow.keras.regularizers import l2\n",
    "import matplotlib.pyplot as plt\n",
    "from imblearn.over_sampling import SMOTE\n",
    "from tensorflow.keras.metrics import AUC, Precision, Recall"
   ],
   "outputs": [
    {
     "name": "stdout",
     "output_type": "stream",
     "text": [
      "WARNING:tensorflow:From C:\\Users\\ASUS\\PycharmProjects\\Graph Neural Network\\.venv\\lib\\site-packages\\keras\\src\\losses.py:2976: The name tf.losses.sparse_softmax_cross_entropy is deprecated. Please use tf.compat.v1.losses.sparse_softmax_cross_entropy instead.\n",
      "\n"
     ]
    }
   ],
   "execution_count": 1
  },
  {
   "metadata": {
    "ExecuteTime": {
     "end_time": "2025-05-01T12:13:34.993553Z",
     "start_time": "2025-05-01T12:13:34.959329Z"
    }
   },
   "cell_type": "code",
   "source": [
    "# Tải data đã lưu\n",
    "split_file = \"splitted_data.pkl\"\n",
    "print(\"Tải dữ liệu đã lưu từ:\", split_file)\n",
    "\n",
    "with open(split_file, \"rb\") as f:\n",
    "    data_splits = pickle.load(f)\n",
    "\n",
    "# Lấy các tập dữ liệu từ dictionary\n",
    "X_train = data_splits[\"X_train\"]\n",
    "X_val = data_splits[\"X_val\"]\n",
    "X_test = data_splits[\"X_test\"]\n",
    "y_train = data_splits[\"y_train\"]\n",
    "y_val = data_splits[\"y_val\"]\n",
    "y_test = data_splits[\"y_test\"]\n",
    "X_train_val = data_splits[\"X_train_val\"]\n",
    "y_train_val = data_splits[\"y_train_val\"]"
   ],
   "id": "9d0f03a7df33262f",
   "outputs": [
    {
     "name": "stdout",
     "output_type": "stream",
     "text": [
      "Tải dữ liệu đã lưu từ: splitted_data.pkl\n"
     ]
    }
   ],
   "execution_count": 2
  },
  {
   "metadata": {
    "ExecuteTime": {
     "end_time": "2025-05-01T12:13:37.122836Z",
     "start_time": "2025-05-01T12:13:37.103693Z"
    }
   },
   "cell_type": "code",
   "source": [
    "# Kiểm tra phân phối của lớp\n",
    "print(\"Phân phối lớp trong tập huấn luyện:\")\n",
    "unique, counts = np.unique(y_train_val, return_counts=True)\n",
    "print(dict(zip(unique, counts)))\n",
    "print(f\"Tỷ lệ dữ liệu dương/âm: 1:{counts[0]/counts[1]:.2f}\")"
   ],
   "id": "d2c6edefb4aeb880",
   "outputs": [
    {
     "name": "stdout",
     "output_type": "stream",
     "text": [
      "Phân phối lớp trong tập huấn luyện:\n",
      "{0: 26815, 1: 169}\n",
      "Tỷ lệ dữ liệu dương/âm: 1:158.67\n"
     ]
    }
   ],
   "execution_count": 3
  },
  {
   "metadata": {
    "ExecuteTime": {
     "end_time": "2025-05-01T12:13:39.288061Z",
     "start_time": "2025-05-01T12:13:39.269748Z"
    }
   },
   "cell_type": "code",
   "source": [
    "import tensorflow as tf\n",
    "from tensorflow.keras import backend as K\n",
    "\n",
    "def focal_loss(gamma=2., alpha=0.25):\n",
    "    def focal_loss_fixed(y_true, y_pred):\n",
    "        \"\"\"\n",
    "        Focal Loss cho bài toán phân loại nhị phân.\n",
    "        y_true: Ground truth (0 hoặc 1)\n",
    "        y_pred: Xác suất dự đoán (sigmoid output)\n",
    "        \"\"\"\n",
    "        epsilon = K.epsilon()\n",
    "        y_pred = K.clip(y_pred, epsilon, 1. - epsilon)\n",
    "        \n",
    "        p_t = tf.where(K.equal(y_true, 1), y_pred, 1 - y_pred)\n",
    "        alpha_factor = tf.where(K.equal(y_true, 1), alpha, 1 - alpha)\n",
    "        focal_weight = alpha_factor * K.pow(1 - p_t, gamma)\n",
    "        \n",
    "        loss = -focal_weight * K.log(p_t)\n",
    "        return K.mean(loss)\n",
    "    \n",
    "    return focal_loss_fixed"
   ],
   "id": "d20370ed5b091d1f",
   "outputs": [],
   "execution_count": 4
  },
  {
   "metadata": {
    "ExecuteTime": {
     "end_time": "2025-05-01T12:14:06.879069Z",
     "start_time": "2025-05-01T12:14:06.869649Z"
    }
   },
   "cell_type": "code",
   "source": [
    "# Khởi tạo mô hình \n",
    "def create_model(input_dim, l2_lambda=0.001):\n",
    "    model = Sequential([\n",
    "        # Tầng đầu tiên với nhiều neuron hơn và regularization\n",
    "        Dense(128, input_dim=input_dim, activation='relu', kernel_regularizer=l2(l2_lambda)),\n",
    "        BatchNormalization(),\n",
    "        Dropout(0.3),\n",
    "\n",
    "        # Tầng ẩn thứ hai\n",
    "        Dense(64, activation='relu', kernel_regularizer=l2(l2_lambda)),\n",
    "        BatchNormalization(),\n",
    "        Dropout(0.3),\n",
    "\n",
    "        # Thêm một tầng ẩn nữa\n",
    "        Dense(32, activation='relu', kernel_regularizer=l2(l2_lambda)),\n",
    "        BatchNormalization(),\n",
    "        Dropout(0.2),\n",
    "\n",
    "        # Tầng đầu ra\n",
    "        Dense(1, activation='sigmoid')\n",
    "    ])\n",
    " \n",
    "    # Sử dụng optimizer Adam với learning rate thấp hơn\n",
    "    optimizer = Adam(learning_rate=0.0005)\n",
    "    \n",
    "    # Compile với các metrics phù hợp cho dữ liệu không cân bằng\n",
    "    model.compile(\n",
    "        optimizer=optimizer,\n",
    "        loss='binary_crossentropy',\n",
    "        # loss=focal_loss(gamma=2.0, alpha=0.25),\n",
    "        metrics=['accuracy', AUC(name='auc'), Precision(name='precision'), Recall(name='recall')]\n",
    "    )\n",
    "    \n",
    "    return model"
   ],
   "id": "7296bb887d13443",
   "outputs": [],
   "execution_count": 6
  },
  {
   "metadata": {
    "ExecuteTime": {
     "end_time": "2025-05-01T12:14:10.173624Z",
     "start_time": "2025-05-01T12:14:09.552708Z"
    }
   },
   "cell_type": "code",
   "source": [
    "# Tạo mô hình\n",
    "improved_model = create_model(X_train.shape[1])\n",
    "\n",
    "# In kiến trúc mô hình\n",
    "improved_model.summary()\n",
    "\n",
    "# Chuẩn bị callbacks\n",
    "early_stop = EarlyStopping(\n",
    "    monitor='val_auc',\n",
    "    mode='max',\n",
    "    patience=10,\n",
    "    restore_best_weights=True,\n",
    "    verbose=1\n",
    ")\n",
    "\n",
    "reduce_lr = ReduceLROnPlateau(\n",
    "    monitor='val_loss',\n",
    "    factor=0.5,\n",
    "    patience=5,\n",
    "    min_lr=0.00001,\n",
    "    verbose=1\n",
    ")"
   ],
   "id": "1f39c5b7434ecaa6",
   "outputs": [
    {
     "name": "stdout",
     "output_type": "stream",
     "text": [
      "WARNING:tensorflow:From C:\\Users\\ASUS\\PycharmProjects\\Graph Neural Network\\.venv\\lib\\site-packages\\keras\\src\\backend.py:873: The name tf.get_default_graph is deprecated. Please use tf.compat.v1.get_default_graph instead.\n",
      "\n",
      "Model: \"sequential\"\n",
      "_________________________________________________________________\n",
      " Layer (type)                Output Shape              Param #   \n",
      "=================================================================\n",
      " dense (Dense)               (None, 128)               1408      \n",
      "                                                                 \n",
      " batch_normalization (Batch  (None, 128)               512       \n",
      " Normalization)                                                  \n",
      "                                                                 \n",
      " dropout (Dropout)           (None, 128)               0         \n",
      "                                                                 \n",
      " dense_1 (Dense)             (None, 64)                8256      \n",
      "                                                                 \n",
      " batch_normalization_1 (Bat  (None, 64)                256       \n",
      " chNormalization)                                                \n",
      "                                                                 \n",
      " dropout_1 (Dropout)         (None, 64)                0         \n",
      "                                                                 \n",
      " dense_2 (Dense)             (None, 32)                2080      \n",
      "                                                                 \n",
      " batch_normalization_2 (Bat  (None, 32)                128       \n",
      " chNormalization)                                                \n",
      "                                                                 \n",
      " dropout_2 (Dropout)         (None, 32)                0         \n",
      "                                                                 \n",
      " dense_3 (Dense)             (None, 1)                 33        \n",
      "                                                                 \n",
      "=================================================================\n",
      "Total params: 12673 (49.50 KB)\n",
      "Trainable params: 12225 (47.75 KB)\n",
      "Non-trainable params: 448 (1.75 KB)\n",
      "_________________________________________________________________\n"
     ]
    }
   ],
   "execution_count": 7
  },
  {
   "metadata": {
    "ExecuteTime": {
     "end_time": "2025-05-01T12:14:19.578075Z",
     "start_time": "2025-05-01T12:14:12.093438Z"
    }
   },
   "cell_type": "code",
   "source": [
    "# Huấn luyện mô hình\n",
    "improved_model.fit(\n",
    "    X_train, y_train,\n",
    "    validation_data=(X_val, y_val),\n",
    "    epochs=100,\n",
    "    batch_size=1024,\n",
    "    callbacks=[early_stop, reduce_lr],\n",
    "    verbose=2\n",
    ")\n",
    "\n",
    "# Dự đoán xác suất trên tập test\n",
    "y_pred_proba = improved_model.predict(X_test)"
   ],
   "id": "bd7726ca7fd92712",
   "outputs": [
    {
     "name": "stdout",
     "output_type": "stream",
     "text": [
      "Epoch 1/100\n",
      "WARNING:tensorflow:From C:\\Users\\ASUS\\PycharmProjects\\Graph Neural Network\\.venv\\lib\\site-packages\\keras\\src\\utils\\tf_utils.py:492: The name tf.ragged.RaggedTensorValue is deprecated. Please use tf.compat.v1.ragged.RaggedTensorValue instead.\n",
      "\n",
      "WARNING:tensorflow:From C:\\Users\\ASUS\\PycharmProjects\\Graph Neural Network\\.venv\\lib\\site-packages\\keras\\src\\engine\\base_layer_utils.py:384: The name tf.executing_eagerly_outside_functions is deprecated. Please use tf.compat.v1.executing_eagerly_outside_functions instead.\n",
      "\n",
      "20/20 - 3s - loss: 0.9860 - accuracy: 0.6203 - auc: 0.5958 - precision: 0.0091 - recall: 0.5512 - val_loss: 1.0437 - val_accuracy: 0.6607 - val_auc: 0.5811 - val_precision: 0.0100 - val_recall: 0.5476 - lr: 5.0000e-04 - 3s/epoch - 143ms/step\n",
      "Epoch 2/100\n",
      "20/20 - 0s - loss: 0.8724 - accuracy: 0.6526 - auc: 0.5555 - precision: 0.0076 - recall: 0.4173 - val_loss: 0.8237 - val_accuracy: 0.8449 - val_auc: 0.6067 - val_precision: 0.0136 - val_recall: 0.3333 - lr: 5.0000e-04 - 153ms/epoch - 8ms/step\n",
      "Epoch 3/100\n",
      "20/20 - 0s - loss: 0.8159 - accuracy: 0.7320 - auc: 0.5165 - precision: 0.0084 - recall: 0.3543 - val_loss: 0.7110 - val_accuracy: 0.9659 - val_auc: 0.6489 - val_precision: 0.0253 - val_recall: 0.1190 - lr: 5.0000e-04 - 219ms/epoch - 11ms/step\n",
      "Epoch 4/100\n",
      "20/20 - 0s - loss: 0.7652 - accuracy: 0.7907 - auc: 0.5333 - precision: 0.0072 - recall: 0.2362 - val_loss: 0.6507 - val_accuracy: 0.9787 - val_auc: 0.6319 - val_precision: 0.0278 - val_recall: 0.0714 - lr: 5.0000e-04 - 217ms/epoch - 11ms/step\n",
      "Epoch 5/100\n",
      "20/20 - 0s - loss: 0.7215 - accuracy: 0.8517 - auc: 0.4911 - precision: 0.0089 - recall: 0.2047 - val_loss: 0.6027 - val_accuracy: 0.9889 - val_auc: 0.6081 - val_precision: 0.0286 - val_recall: 0.0238 - lr: 5.0000e-04 - 249ms/epoch - 12ms/step\n",
      "Epoch 6/100\n",
      "20/20 - 0s - loss: 0.6766 - accuracy: 0.9043 - auc: 0.4962 - precision: 0.0098 - recall: 0.1417 - val_loss: 0.5659 - val_accuracy: 0.9920 - val_auc: 0.5913 - val_precision: 0.0000e+00 - val_recall: 0.0000e+00 - lr: 5.0000e-04 - 249ms/epoch - 12ms/step\n",
      "Epoch 7/100\n",
      "20/20 - 0s - loss: 0.6426 - accuracy: 0.9313 - auc: 0.4823 - precision: 0.0123 - recall: 0.1260 - val_loss: 0.5343 - val_accuracy: 0.9938 - val_auc: 0.5447 - val_precision: 0.0000e+00 - val_recall: 0.0000e+00 - lr: 5.0000e-04 - 264ms/epoch - 13ms/step\n",
      "Epoch 8/100\n",
      "20/20 - 0s - loss: 0.6053 - accuracy: 0.9514 - auc: 0.4692 - precision: 0.0147 - recall: 0.1024 - val_loss: 0.5048 - val_accuracy: 0.9938 - val_auc: 0.6408 - val_precision: 0.0000e+00 - val_recall: 0.0000e+00 - lr: 5.0000e-04 - 292ms/epoch - 15ms/step\n",
      "Epoch 9/100\n",
      "20/20 - 0s - loss: 0.5644 - accuracy: 0.9616 - auc: 0.5437 - precision: 0.0234 - recall: 0.1260 - val_loss: 0.4672 - val_accuracy: 0.9938 - val_auc: 0.6125 - val_precision: 0.0000e+00 - val_recall: 0.0000e+00 - lr: 5.0000e-04 - 267ms/epoch - 13ms/step\n",
      "Epoch 10/100\n",
      "20/20 - 0s - loss: 0.5347 - accuracy: 0.9642 - auc: 0.4878 - precision: 0.0209 - recall: 0.1024 - val_loss: 0.4372 - val_accuracy: 0.9938 - val_auc: 0.5589 - val_precision: 0.0000e+00 - val_recall: 0.0000e+00 - lr: 5.0000e-04 - 311ms/epoch - 16ms/step\n",
      "Epoch 11/100\n",
      "20/20 - 0s - loss: 0.4966 - accuracy: 0.9702 - auc: 0.4960 - precision: 0.0182 - recall: 0.0709 - val_loss: 0.4076 - val_accuracy: 0.9938 - val_auc: 0.5756 - val_precision: 0.0000e+00 - val_recall: 0.0000e+00 - lr: 5.0000e-04 - 343ms/epoch - 17ms/step\n",
      "Epoch 12/100\n",
      "20/20 - 0s - loss: 0.4598 - accuracy: 0.9771 - auc: 0.4810 - precision: 0.0227 - recall: 0.0630 - val_loss: 0.3782 - val_accuracy: 0.9938 - val_auc: 0.6033 - val_precision: 0.0000e+00 - val_recall: 0.0000e+00 - lr: 5.0000e-04 - 257ms/epoch - 13ms/step\n",
      "Epoch 13/100\n",
      "Restoring model weights from the end of the best epoch: 3.\n",
      "20/20 - 0s - loss: 0.4260 - accuracy: 0.9803 - auc: 0.5152 - precision: 0.0405 - recall: 0.0945 - val_loss: 0.3492 - val_accuracy: 0.9938 - val_auc: 0.5908 - val_precision: 0.0000e+00 - val_recall: 0.0000e+00 - lr: 5.0000e-04 - 349ms/epoch - 17ms/step\n",
      "Epoch 13: early stopping\n",
      "211/211 [==============================] - 1s 3ms/step\n"
     ]
    }
   ],
   "execution_count": 8
  },
  {
   "metadata": {
    "ExecuteTime": {
     "end_time": "2025-05-01T12:14:38.033136Z",
     "start_time": "2025-05-01T12:14:38.001278Z"
    }
   },
   "cell_type": "code",
   "source": [
    "from sklearn.metrics import ConfusionMatrixDisplay\n",
    "# Tìm ngưỡng tối ưu sử dụng precision-recall curve\n",
    "precision, recall, thresholds = precision_recall_curve(y_test, y_pred_proba)\n",
    "f1_scores = 2 * recall * precision / (recall + precision + 1e-10)\n",
    "optimal_threshold_idx = np.argmax(f1_scores)\n",
    "optimal_threshold = thresholds[optimal_threshold_idx]\n",
    "\n",
    "print(f\"Ngưỡng dự đoán tối ưu: {optimal_threshold:.4f}\")\n",
    "\n",
    "# Áp dụng ngưỡng tối ưu\n",
    "y_pred = (y_pred_proba > optimal_threshold).astype(int)\n",
    "\n",
    "# Đánh giá mô hình\n",
    "print(\"Classification Report:\\n\", classification_report(y_test, y_pred, zero_division=0))"
   ],
   "id": "bc0e67e1dffab823",
   "outputs": [
    {
     "name": "stdout",
     "output_type": "stream",
     "text": [
      "Ngưỡng dự đoán tối ưu: 0.4727\n",
      "Classification Report:\n",
      "               precision    recall  f1-score   support\n",
      "\n",
      "           0       0.99      0.96      0.98      6705\n",
      "           1       0.03      0.19      0.05        42\n",
      "\n",
      "    accuracy                           0.95      6747\n",
      "   macro avg       0.51      0.57      0.51      6747\n",
      "weighted avg       0.99      0.95      0.97      6747\n",
      "\n"
     ]
    }
   ],
   "execution_count": 10
  },
  {
   "metadata": {
    "ExecuteTime": {
     "end_time": "2025-05-01T12:14:40.650442Z",
     "start_time": "2025-05-01T12:14:40.404307Z"
    }
   },
   "cell_type": "code",
   "source": [
    "# Confusion Matrix \n",
    "cm = confusion_matrix(y_test, y_pred)  \n",
    "fig, ax = plt.subplots()\n",
    "im = ax.imshow(cm, cmap='Blues')\n",
    "plt.colorbar(im, ax=ax)\n",
    "ax.set(\n",
    "    xticks=[0,1], yticks=[0,1],\n",
    "    xticklabels=['Pred 0','Pred 1'],\n",
    "    yticklabels=['True 0','True 1'],\n",
    "    title='Confusion Matrix',\n",
    "    xlabel='Predicted', ylabel='Actual'\n",
    ")\n",
    "thresh = cm.max() / 2\n",
    "for i in range(2):\n",
    "    for j in range(2):\n",
    "        ax.text(j, i, cm[i,j],\n",
    "                ha='center', va='center',\n",
    "                color='white' if cm[i,j] > thresh else 'black')\n",
    "plt.show()\n",
    "\n",
    "# ROC Curve \n",
    "fpr, tpr, _ = roc_curve(y_test, y_pred_proba) \n",
    "roc_auc      = auc(fpr, tpr)\n",
    "plt.figure()\n",
    "plt.plot(fpr, tpr, label=f'AUC = {roc_auc:.2f}')\n",
    "plt.plot([0,1], [0,1], 'k--')\n",
    "plt.xlabel('False Positive Rate')\n",
    "plt.ylabel('True Positive Rate')\n",
    "plt.title('ROC Curve')\n",
    "plt.legend(loc='lower right')\n",
    "plt.show()"
   ],
   "id": "8941637acc70d1d8",
   "outputs": [
    {
     "data": {
      "text/plain": [
       "<Figure size 640x480 with 2 Axes>"
      ],
      "image/png": "[encoded data removed]"
     },
     "metadata": {},
     "output_type": "display_data"
    },
    {
     "data": {
      "text/plain": [
       "<Figure size 640x480 with 1 Axes>"
      ],
      "image/png": "[encoded data removed]"
     },
     "metadata": {},
     "output_type": "display_data"
    }
   ],
   "execution_count": 11
  }
 ],
 "metadata": {
  "kernelspec": {
   "display_name": "Python 3",
   "language": "python",
   "name": "python3"
  },
  "language_info": {
   "codemirror_mode": {
    "name": "ipython",
    "version": 2
   },
   "file_extension": ".py",
   "mimetype": "text/x-python",
   "name": "python",
   "nbconvert_exporter": "python",
   "pygments_lexer": "ipython2",
   "version": "2.7.6"
  }
 },
 "nbformat": 4,
 "nbformat_minor": 5
}
