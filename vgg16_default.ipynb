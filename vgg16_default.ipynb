{
 "cells": [
  {
   "metadata": {
    "ExecuteTime": {
     "end_time": "2025-04-29T11:35:47.370636Z",
     "start_time": "2025-04-29T11:35:31.417193Z"
    }
   },
   "cell_type": "code",
   "source": [
    "import numpy as np\n",
    "import tensorflow as tf\n",
    "from tensorflow.keras import backend as K\n",
    "from tensorflow.keras.models import Sequential\n",
    "from tensorflow.keras.layers import (\n",
    "    Conv1D, MaxPooling1D, Flatten,\n",
    "    Dense, Dropout, BatchNormalization\n",
    ")\n",
    "from tensorflow.keras.metrics import AUC, Precision, Recall\n",
    "from sklearn.preprocessing import StandardScaler\n",
    "from sklearn.metrics import classification_report, confusion_matrix, roc_curve, auc\n",
    "import matplotlib.pyplot as plt\n"
   ],
   "id": "465d1513309945c4",
   "outputs": [
    {
     "name": "stdout",
     "output_type": "stream",
     "text": [
      "WARNING:tensorflow:From C:\\Users\\ASUS\\PycharmProjects\\Graph Neural Network\\.venv\\lib\\site-packages\\keras\\src\\losses.py:2976: The name tf.losses.sparse_softmax_cross_entropy is deprecated. Please use tf.compat.v1.losses.sparse_softmax_cross_entropy instead.\n",
      "\n"
     ]
    }
   ],
   "execution_count": 1
  },
  {
   "metadata": {
    "collapsed": true,
    "ExecuteTime": {
     "end_time": "2025-04-29T11:35:51.032473Z",
     "start_time": "2025-04-29T11:35:51.007501Z"
    }
   },
   "cell_type": "code",
   "source": [
    "import pickle\n",
    "# Tải data đã lưu\n",
    "split_file = \"splitted_data.pkl\"\n",
    "print(\"Tải dữ liệu đã lưu từ:\", split_file)\n",
    "\n",
    "with open(split_file, \"rb\") as f:\n",
    "    data_splits = pickle.load(f)\n",
    "\n",
    "# Lấy các tập dữ liệu từ dictionary\n",
    "X_train = data_splits[\"X_train\"]\n",
    "X_val = data_splits[\"X_val\"]\n",
    "X_test = data_splits[\"X_test\"]\n",
    "y_train = data_splits[\"y_train\"]\n",
    "y_val = data_splits[\"y_val\"]\n",
    "y_test = data_splits[\"y_test\"]\n",
    "X_train_val = data_splits[\"X_train_val\"]\n",
    "y_train_val = data_splits[\"y_train_val\"]"
   ],
   "id": "initial_id",
   "outputs": [
    {
     "name": "stdout",
     "output_type": "stream",
     "text": [
      "Tải dữ liệu đã lưu từ: splitted_data.pkl\n"
     ]
    }
   ],
   "execution_count": 2
  },
  {
   "metadata": {
    "ExecuteTime": {
     "end_time": "2025-04-29T11:35:53.225219Z",
     "start_time": "2025-04-29T11:35:53.212160Z"
    }
   },
   "cell_type": "code",
   "source": [
    "import numpy as np\n",
    "# Kiểm tra phân phối của lớp\n",
    "print(\"Phân phối lớp trong tập huấn luyện:\")\n",
    "unique, counts = np.unique(y_train_val, return_counts=True)\n",
    "print(dict(zip(unique, counts)))\n",
    "print(f\"Tỷ lệ dữ liệu dương/âm: 1:{counts[0]/counts[1]:.2f}\")"
   ],
   "id": "52f27740cd3c93c7",
   "outputs": [
    {
     "name": "stdout",
     "output_type": "stream",
     "text": [
      "Phân phối lớp trong tập huấn luyện:\n",
      "{0: 26815, 1: 169}\n",
      "Tỷ lệ dữ liệu dương/âm: 1:158.67\n"
     ]
    }
   ],
   "execution_count": 3
  },
  {
   "metadata": {
    "ExecuteTime": {
     "end_time": "2025-04-29T11:35:54.923128Z",
     "start_time": "2025-04-29T11:35:54.902498Z"
    }
   },
   "cell_type": "code",
   "source": [
    "# Chuẩn hóa & reshape cho Conv1D\n",
    "scaler = StandardScaler()\n",
    "X_tr_s = scaler.fit_transform(X_train)\n",
    "X_va_s = scaler.transform(X_val)\n",
    "X_te_s = scaler.transform(X_test)\n",
    "\n",
    "# Reshape thành (samples, features, 1)\n",
    "X_tr = X_tr_s.reshape(-1, X_tr_s.shape[1], 1)\n",
    "X_va = X_va_s.reshape(-1, X_va_s.shape[1], 1)\n",
    "X_te = X_te_s.reshape(-1, X_te_s.shape[1], 1)\n",
    "\n",
    "y_tr, y_va, y_te = y_train, y_val, y_test"
   ],
   "id": "bb1a483e5448c8b2",
   "outputs": [],
   "execution_count": 4
  },
  {
   "metadata": {
    "ExecuteTime": {
     "end_time": "2025-04-29T11:35:57.626633Z",
     "start_time": "2025-04-29T11:35:56.686515Z"
    }
   },
   "cell_type": "code",
   "source": [
    "# Xây dựng mô hình mẫu\n",
    "# - 3 block Conv1D, filters lần lượt 32→64→128\n",
    "# - FC layers 512→256, dropout 0.3\n",
    "# - Focal loss cố định γ=2.0, α=0.25\n",
    "def focal_loss_fixed(y_true, y_pred):\n",
    "    gamma = 2.0\n",
    "    alpha = 0.25\n",
    "    y_pred = K.clip(y_pred, K.epsilon(), 1.0 - K.epsilon())\n",
    "    p_t = tf.where(K.equal(y_true, 1), y_pred, 1 - y_pred)\n",
    "    alpha_t = tf.where(K.equal(y_true, 1), alpha, 1 - alpha)\n",
    "    focal = -alpha_t * K.pow(1.0 - p_t, gamma) * K.log(p_t)\n",
    "    return K.mean(focal)\n",
    "\n",
    "model = Sequential([\n",
    "    Conv1D(32, 3, activation='relu', padding='same', input_shape=(X_tr.shape[1],1)),\n",
    "    BatchNormalization(),\n",
    "    Conv1D(32, 3, activation='relu', padding='same'),\n",
    "    BatchNormalization(),\n",
    "    MaxPooling1D(2),\n",
    "\n",
    "    Conv1D(64, 3, activation='relu', padding='same'),\n",
    "    BatchNormalization(),\n",
    "    Conv1D(64, 3, activation='relu', padding='same'),\n",
    "    BatchNormalization(),\n",
    "    MaxPooling1D(2),\n",
    "\n",
    "    Conv1D(128, 3, activation='relu', padding='same'),\n",
    "    BatchNormalization(),\n",
    "    Conv1D(128, 3, activation='relu', padding='same'),\n",
    "    BatchNormalization(),\n",
    "    MaxPooling1D(2),\n",
    "\n",
    "    Flatten(),\n",
    "    Dense(512, activation='relu'),\n",
    "    Dropout(0.3),\n",
    "    Dense(256, activation='relu'),\n",
    "    Dropout(0.3),\n",
    "    Dense(1, activation='sigmoid')\n",
    "])\n",
    "\n",
    "model.compile(\n",
    "    optimizer=tf.keras.optimizers.Adam(learning_rate=1e-3),\n",
    "    loss=focal_loss_fixed,\n",
    "    metrics=[AUC(name='auc'), Precision(name='precision'), Recall(name='recall')]\n",
    ")\n",
    "model.summary()"
   ],
   "id": "a89bead9d11a2d8",
   "outputs": [
    {
     "name": "stdout",
     "output_type": "stream",
     "text": [
      "WARNING:tensorflow:From C:\\Users\\ASUS\\PycharmProjects\\Graph Neural Network\\.venv\\lib\\site-packages\\keras\\src\\backend.py:873: The name tf.get_default_graph is deprecated. Please use tf.compat.v1.get_default_graph instead.\n",
      "\n",
      "WARNING:tensorflow:From C:\\Users\\ASUS\\PycharmProjects\\Graph Neural Network\\.venv\\lib\\site-packages\\keras\\src\\backend.py:6642: The name tf.nn.max_pool is deprecated. Please use tf.nn.max_pool2d instead.\n",
      "\n",
      "Model: \"sequential\"\n",
      "_________________________________________________________________\n",
      " Layer (type)                Output Shape              Param #   \n",
      "=================================================================\n",
      " conv1d (Conv1D)             (None, 10, 32)            128       \n",
      "                                                                 \n",
      " batch_normalization (Batch  (None, 10, 32)            128       \n",
      " Normalization)                                                  \n",
      "                                                                 \n",
      " conv1d_1 (Conv1D)           (None, 10, 32)            3104      \n",
      "                                                                 \n",
      " batch_normalization_1 (Bat  (None, 10, 32)            128       \n",
      " chNormalization)                                                \n",
      "                                                                 \n",
      " max_pooling1d (MaxPooling1  (None, 5, 32)             0         \n",
      " D)                                                              \n",
      "                                                                 \n",
      " conv1d_2 (Conv1D)           (None, 5, 64)             6208      \n",
      "                                                                 \n",
      " batch_normalization_2 (Bat  (None, 5, 64)             256       \n",
      " chNormalization)                                                \n",
      "                                                                 \n",
      " conv1d_3 (Conv1D)           (None, 5, 64)             12352     \n",
      "                                                                 \n",
      " batch_normalization_3 (Bat  (None, 5, 64)             256       \n",
      " chNormalization)                                                \n",
      "                                                                 \n",
      " max_pooling1d_1 (MaxPoolin  (None, 2, 64)             0         \n",
      " g1D)                                                            \n",
      "                                                                 \n",
      " conv1d_4 (Conv1D)           (None, 2, 128)            24704     \n",
      "                                                                 \n",
      " batch_normalization_4 (Bat  (None, 2, 128)            512       \n",
      " chNormalization)                                                \n",
      "                                                                 \n",
      " conv1d_5 (Conv1D)           (None, 2, 128)            49280     \n",
      "                                                                 \n",
      " batch_normalization_5 (Bat  (None, 2, 128)            512       \n",
      " chNormalization)                                                \n",
      "                                                                 \n",
      " max_pooling1d_2 (MaxPoolin  (None, 1, 128)            0         \n",
      " g1D)                                                            \n",
      "                                                                 \n",
      " flatten (Flatten)           (None, 128)               0         \n",
      "                                                                 \n",
      " dense (Dense)               (None, 512)               66048     \n",
      "                                                                 \n",
      " dropout (Dropout)           (None, 512)               0         \n",
      "                                                                 \n",
      " dense_1 (Dense)             (None, 256)               131328    \n",
      "                                                                 \n",
      " dropout_1 (Dropout)         (None, 256)               0         \n",
      "                                                                 \n",
      " dense_2 (Dense)             (None, 1)                 257       \n",
      "                                                                 \n",
      "=================================================================\n",
      "Total params: 295201 (1.13 MB)\n",
      "Trainable params: 294305 (1.12 MB)\n",
      "Non-trainable params: 896 (3.50 KB)\n",
      "_________________________________________________________________\n"
     ]
    }
   ],
   "execution_count": 5
  },
  {
   "metadata": {
    "ExecuteTime": {
     "end_time": "2025-04-29T11:36:27.191995Z",
     "start_time": "2025-04-29T11:36:05.052040Z"
    }
   },
   "cell_type": "code",
   "source": [
    "# Train mô hình\n",
    "model.fit(\n",
    "    X_tr, y_tr,\n",
    "    validation_data=(X_va, y_va),\n",
    "    epochs=20,\n",
    "    batch_size=64,\n",
    "    callbacks=[tf.keras.callbacks.EarlyStopping(monitor='val_loss', patience=3)]\n",
    ")"
   ],
   "id": "f08506a51ab71bd2",
   "outputs": [
    {
     "name": "stdout",
     "output_type": "stream",
     "text": [
      "Epoch 1/20\n",
      "WARNING:tensorflow:From C:\\Users\\ASUS\\PycharmProjects\\Graph Neural Network\\.venv\\lib\\site-packages\\keras\\src\\utils\\tf_utils.py:492: The name tf.ragged.RaggedTensorValue is deprecated. Please use tf.compat.v1.ragged.RaggedTensorValue instead.\n",
      "\n",
      "317/317 [==============================] - 7s 10ms/step - loss: 0.0059 - auc: 0.7848 - precision: 0.0000e+00 - recall: 0.0000e+00 - val_loss: 0.0031 - val_auc: 0.9072 - val_precision: 0.0000e+00 - val_recall: 0.0000e+00\n",
      "Epoch 2/20\n",
      "317/317 [==============================] - 3s 8ms/step - loss: 0.0036 - auc: 0.8713 - precision: 0.0000e+00 - recall: 0.0000e+00 - val_loss: 0.0035 - val_auc: 0.8800 - val_precision: 0.0000e+00 - val_recall: 0.0000e+00\n",
      "Epoch 3/20\n",
      "317/317 [==============================] - 3s 10ms/step - loss: 0.0035 - auc: 0.8803 - precision: 0.0000e+00 - recall: 0.0000e+00 - val_loss: 0.0029 - val_auc: 0.9310 - val_precision: 0.0000e+00 - val_recall: 0.0000e+00\n",
      "Epoch 4/20\n",
      "317/317 [==============================] - 3s 10ms/step - loss: 0.0031 - auc: 0.9116 - precision: 0.0000e+00 - recall: 0.0000e+00 - val_loss: 0.0029 - val_auc: 0.9178 - val_precision: 0.0000e+00 - val_recall: 0.0000e+00\n",
      "Epoch 5/20\n",
      "317/317 [==============================] - 3s 10ms/step - loss: 0.0029 - auc: 0.9199 - precision: 0.0000e+00 - recall: 0.0000e+00 - val_loss: 0.0031 - val_auc: 0.8937 - val_precision: 0.0000e+00 - val_recall: 0.0000e+00\n",
      "Epoch 6/20\n",
      "317/317 [==============================] - 3s 10ms/step - loss: 0.0028 - auc: 0.9340 - precision: 1.0000 - recall: 0.0157 - val_loss: 0.0029 - val_auc: 0.9127 - val_precision: 0.0000e+00 - val_recall: 0.0000e+00\n"
     ]
    },
    {
     "data": {
      "text/plain": [
       "<keras.src.callbacks.History at 0x20236f40af0>"
      ]
     },
     "execution_count": 6,
     "metadata": {},
     "output_type": "execute_result"
    }
   ],
   "execution_count": 6
  },
  {
   "metadata": {
    "ExecuteTime": {
     "end_time": "2025-04-29T11:36:50.952944Z",
     "start_time": "2025-04-29T11:36:50.024904Z"
    }
   },
   "cell_type": "code",
   "source": [
    "# Đánh giá trên test set\n",
    "# In Classification Report\n",
    "# Vẽ Confusion Matrix và ROC Curve\n",
    "\n",
    "y_prob = model.predict(X_te).ravel()\n",
    "y_pred = (y_prob >= 0.5).astype(int)\n",
    "\n",
    "# Classification Report\n",
    "print(classification_report(y_te, y_pred, zero_division=0))\n",
    "\n",
    "# Confusion Matrix\n",
    "cm = confusion_matrix(y_te, y_pred)\n",
    "plt.figure(figsize=(4,4))\n",
    "plt.imshow(cm, cmap='Blues')\n",
    "plt.title(\"Confusion Matrix\")\n",
    "plt.xlabel(\"Predicted\")\n",
    "plt.ylabel(\"Actual\")\n",
    "for i in range(2):\n",
    "    for j in range(2):\n",
    "        plt.text(j, i, cm[i,j], ha='center', va='center',\n",
    "                 color='white' if cm[i,j]>cm.max()/2 else 'black')\n",
    "plt.xticks([0,1], ['0','1'])\n",
    "plt.yticks([0,1], ['0','1'])\n",
    "plt.show()\n",
    "\n",
    "# ROC Curve\n",
    "fpr, tpr, _ = roc_curve(y_te, y_prob)\n",
    "roc_auc = auc(fpr, tpr)\n",
    "plt.figure()\n",
    "plt.plot(fpr, tpr, label=f'AUC = {roc_auc:.2f}')\n",
    "plt.plot([0,1], [0,1], 'k--')\n",
    "plt.title(\"ROC Curve\")\n",
    "plt.xlabel(\"False Positive Rate\")\n",
    "plt.ylabel(\"True Positive Rate\")\n",
    "plt.legend(loc='lower right')\n",
    "plt.show()"
   ],
   "id": "186b6605b6103c19",
   "outputs": [
    {
     "name": "stdout",
     "output_type": "stream",
     "text": [
      "211/211 [==============================] - 1s 3ms/step\n",
      "              precision    recall  f1-score   support\n",
      "\n",
      "           0       0.99      1.00      1.00      6705\n",
      "           1       0.00      0.00      0.00        42\n",
      "\n",
      "    accuracy                           0.99      6747\n",
      "   macro avg       0.50      0.50      0.50      6747\n",
      "weighted avg       0.99      0.99      0.99      6747\n",
      "\n"
     ]
    },
    {
     "data": {
      "text/plain": [
       "<Figure size 400x400 with 1 Axes>"
      ],
      "image/png": "[encoded data removed]"
     },
     "metadata": {},
     "output_type": "display_data"
    },
    {
     "data": {
      "text/plain": [
       "<Figure size 640x480 with 1 Axes>"
      ],
      "image/png": "[encoded data removed]"
     },
     "metadata": {},
     "output_type": "display_data"
    }
   ],
   "execution_count": 8
  }
 ],
 "metadata": {
  "kernelspec": {
   "display_name": "Python 3",
   "language": "python",
   "name": "python3"
  },
  "language_info": {
   "codemirror_mode": {
    "name": "ipython",
    "version": 2
   },
   "file_extension": ".py",
   "mimetype": "text/x-python",
   "name": "python",
   "nbconvert_exporter": "python",
   "pygments_lexer": "ipython2",
   "version": "2.7.6"
  }
 },
 "nbformat": 4,
 "nbformat_minor": 5
}
